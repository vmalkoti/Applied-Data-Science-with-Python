{
 "cells": [
  {
   "cell_type": "markdown",
   "metadata": {},
   "source": [
    "---\n",
    "\n",
    "_You are currently looking at **version 1.1** of this notebook. To download notebooks and datafiles, as well as get help on Jupyter notebooks in the Coursera platform, visit the [Jupyter Notebook FAQ](https://www.coursera.org/learn/python-social-network-analysis/resources/yPcBs) course resource._\n",
    "\n",
    "---"
   ]
  },
  {
   "cell_type": "markdown",
   "metadata": {},
   "source": [
    "# Assignment 1 - Creating and Manipulating Graphs\n",
    "\n",
    "Eight employees at a small company were asked to choose 3 movies that they would most enjoy watching for the upcoming company movie night. These choices are stored in the file `Employee_Movie_Choices.txt`.\n",
    "\n",
    "A second file, `Employee_Relationships.txt`, has data on the relationships between different coworkers. \n",
    "\n",
    "The relationship score has value of `-100` (Enemies) to `+100` (Best Friends). A value of zero means the two employees haven't interacted or are indifferent.\n",
    "\n",
    "Both files are tab delimited."
   ]
  },
  {
   "cell_type": "code",
   "execution_count": 1,
   "metadata": {
    "collapsed": true
   },
   "outputs": [],
   "source": [
    "import networkx as nx\n",
    "import pandas as pd\n",
    "import numpy as np\n",
    "from networkx.algorithms import bipartite\n",
    "\n",
    "\n",
    "# This is the set of employees\n",
    "employees = set(['Pablo',\n",
    "                 'Lee',\n",
    "                 'Georgia',\n",
    "                 'Vincent',\n",
    "                 'Andy',\n",
    "                 'Frida',\n",
    "                 'Joan',\n",
    "                 'Claude'])\n",
    "\n",
    "# This is the set of movies\n",
    "movies = set(['The Shawshank Redemption',\n",
    "              'Forrest Gump',\n",
    "              'The Matrix',\n",
    "              'Anaconda',\n",
    "              'The Social Network',\n",
    "              'The Godfather',\n",
    "              'Monty Python and the Holy Grail',\n",
    "              'Snakes on a Plane',\n",
    "              'Kung Fu Panda',\n",
    "              'The Dark Knight',\n",
    "              'Mean Girls'])\n",
    "\n",
    "\n",
    "# you can use the following function to plot graphs\n",
    "# make sure to comment it out before submitting to the autograder\n",
    "# def plot_graph(G, weight_name=None):\n",
    "#     '''\n",
    "#     G: a networkx G\n",
    "#     weight_name: name of the attribute for plotting edge weights (if G is weighted)\n",
    "#     '''\n",
    "#     %matplotlib notebook\n",
    "#     import matplotlib.pyplot as plt\n",
    "    \n",
    "#     plt.figure()\n",
    "#     pos = nx.spring_layout(G)\n",
    "#     edges = G.edges()\n",
    "#     weights = None\n",
    "    \n",
    "#     if weight_name:\n",
    "#         weights = [int(G[u][v][weight_name]) for u,v in edges]\n",
    "#         labels = nx.get_edge_attributes(G,weight_name)\n",
    "#         nx.draw_networkx_edge_labels(G,pos,edge_labels=labels)\n",
    "#         nx.draw_networkx(G, pos, edges=edges, width=weights);\n",
    "#     else:\n",
    "#         nx.draw_networkx(G, pos, edges=edges);"
   ]
  },
  {
   "cell_type": "markdown",
   "metadata": {},
   "source": [
    "### Question 1\n",
    "\n",
    "Using NetworkX, load in the bipartite graph from `Employee_Movie_Choices.txt` and return that graph.\n",
    "\n",
    "*This function should return a networkx graph with 19 nodes and 24 edges*"
   ]
  },
  {
   "cell_type": "code",
   "execution_count": 7,
   "metadata": {
    "collapsed": true
   },
   "outputs": [
    {
     "output_type": "execute_result",
     "data": {
      "text/plain": "[('Andy', 'Anaconda'),\n ('Andy', 'Mean Girls'),\n ('Andy', 'The Matrix'),\n ('Anaconda', 'Claude'),\n ('Anaconda', 'Georgia'),\n ('Mean Girls', 'Joan'),\n ('Mean Girls', 'Lee'),\n ('The Matrix', 'Frida'),\n ('The Matrix', 'Pablo'),\n ('Claude', 'Monty Python and the Holy Grail'),\n ('Claude', 'Snakes on a Plane'),\n ('Monty Python and the Holy Grail', 'Georgia'),\n ('Snakes on a Plane', 'Georgia'),\n ('Frida', 'The Shawshank Redemption'),\n ('Frida', 'The Social Network'),\n ('The Shawshank Redemption', 'Pablo'),\n ('The Shawshank Redemption', 'Vincent'),\n ('The Social Network', 'Vincent'),\n ('Joan', 'Forrest Gump'),\n ('Joan', 'Kung Fu Panda'),\n ('Forrest Gump', 'Lee'),\n ('Kung Fu Panda', 'Lee'),\n ('Pablo', 'The Dark Knight'),\n ('Vincent', 'The Godfather')]"
     },
     "metadata": {},
     "execution_count": 7
    }
   ],
   "source": [
    "def answer_one():\n",
    "        \n",
    "    # Your Code Here\n",
    "    return nx.read_edgelist('Employee_Movie_Choices.txt', comments='#', delimiter='\\t') # Your Answer Here\n",
    "\n",
    "#list(answer_one().edges())"
   ]
  },
  {
   "cell_type": "markdown",
   "metadata": {},
   "source": [
    "### Question 2\n",
    "\n",
    "Using the graph from the previous question, add nodes attributes named `'type'` where movies have the value `'movie'` and employees have the value `'employee'` and return that graph.\n",
    "\n",
    "*This function should return a networkx graph with node attributes `{'type': 'movie'}` or `{'type': 'employee'}`*"
   ]
  },
  {
   "cell_type": "code",
   "execution_count": 12,
   "metadata": {
    "collapsed": true
   },
   "outputs": [
    {
     "output_type": "execute_result",
     "data": {
      "text/plain": "[('Andy', {'type': 'employee'}),\n ('Anaconda', {'type': 'movie'}),\n ('Mean Girls', {'type': 'movie'}),\n ('The Matrix', {'type': 'movie'}),\n ('Claude', {'type': 'employee'}),\n ('Monty Python and the Holy Grail', {'type': 'movie'}),\n ('Snakes on a Plane', {'type': 'movie'}),\n ('Frida', {'type': 'employee'}),\n ('The Shawshank Redemption', {'type': 'movie'}),\n ('The Social Network', {'type': 'movie'}),\n ('Georgia', {'type': 'employee'}),\n ('Joan', {'type': 'employee'}),\n ('Forrest Gump', {'type': 'movie'}),\n ('Kung Fu Panda', {'type': 'movie'}),\n ('Lee', {'type': 'employee'}),\n ('Pablo', {'type': 'employee'}),\n ('The Dark Knight', {'type': 'movie'}),\n ('Vincent', {'type': 'employee'}),\n ('The Godfather', {'type': 'movie'})]"
     },
     "metadata": {},
     "execution_count": 12
    }
   ],
   "source": [
    "def answer_two():\n",
    "    \n",
    "    # Your Code Here\n",
    "    graph = answer_one()\n",
    "    nx.set_node_attributes(graph, name='type', values=dict((emp, 'employee') for emp in employees))\n",
    "    nx.set_node_attributes(graph, name='type', values=dict((mov, 'movie') for mov in movies))\n",
    "    return graph # Your Answer Here\n",
    "\n",
    "#list(answer_two().nodes(data=True))"
   ]
  },
  {
   "cell_type": "markdown",
   "metadata": {
    "collapsed": true
   },
   "source": [
    "### Question 3\n",
    "\n",
    "Find a weighted projection of the graph from `answer_two` which tells us how many movies different pairs of employees have in common.\n",
    "\n",
    "*This function should return a weighted projected graph.*"
   ]
  },
  {
   "cell_type": "code",
   "execution_count": 19,
   "metadata": {
    "collapsed": true
   },
   "outputs": [
    {
     "output_type": "execute_result",
     "data": {
      "text/plain": "[('Claude', 'Andy', {'weight': 1}),\n ('Claude', 'Georgia', {'weight': 3}),\n ('Frida', 'Vincent', {'weight': 2}),\n ('Frida', 'Andy', {'weight': 1}),\n ('Frida', 'Pablo', {'weight': 2}),\n ('Joan', 'Andy', {'weight': 1}),\n ('Joan', 'Lee', {'weight': 3}),\n ('Andy', 'Pablo', {'weight': 1}),\n ('Andy', 'Lee', {'weight': 1}),\n ('Andy', 'Georgia', {'weight': 1}),\n ('Pablo', 'Vincent', {'weight': 1})]"
     },
     "metadata": {},
     "execution_count": 19
    }
   ],
   "source": [
    "def answer_three():\n",
    "        \n",
    "    # Your Code Here\n",
    "    G = answer_two()\n",
    "    # bipartite.is_bipartite(G)\n",
    "    return bipartite.weighted_projected_graph(G, employees) # Your Answer Here\n",
    "\n",
    "#list(answer_three().edges(data=True))"
   ]
  },
  {
   "cell_type": "markdown",
   "metadata": {
    "collapsed": true
   },
   "source": [
    "### Question 4\n",
    "\n",
    "Suppose you'd like to find out if people that have a high relationship score also like the same types of movies.\n",
    "\n",
    "Find the Pearson correlation ( using `DataFrame.corr()` ) between employee relationship scores and the number of movies they have in common. If two employees have no movies in common it should be treated as a 0, not a missing value, and should be included in the correlation calculation.\n",
    "\n",
    "*This function should return a float.*"
   ]
  },
  {
   "cell_type": "code",
   "execution_count": 64,
   "metadata": {
    "collapsed": true
   },
   "outputs": [
    {
     "output_type": "execute_result",
     "data": {
      "text/plain": "0.7883962221733474"
     },
     "metadata": {},
     "execution_count": 64
    }
   ],
   "source": [
    "def answer_four():\n",
    "        \n",
    "    # Your Code Here\n",
    "    weight_graph = answer_three()\n",
    "    #weight_df = nx.to_pandas_dataframe(weight_graph)  # networkx version >=2.0\n",
    "    weight_df = pd.DataFrame(weight_graph.edges(data=True), columns=['from', 'to', 'weight_dict'])\n",
    "    weight_df = pd.concat([weight_df.drop(['weight_dict'], axis=1), \n",
    "                           weight_df['weight_dict'].apply(pd.Series)], axis=1)\n",
    "    weight_df = pd.concat([weight_df, weight_df.copy().rename(columns={'from':'to', 'to':'from'})])\n",
    "    \n",
    "\n",
    "    rel_graph = nx.read_edgelist('Employee_Relationships.txt', delimiter='\\t', data=[('rel_score', int)])\n",
    "    #rel_df = nx.to_pandas_dataframe(rel_graph)  # networkx version >=2.0\n",
    "    rel_df = pd.DataFrame(rel_graph.edges(data=True), columns=['from', 'to', 'rel_score_dict'])\n",
    "    rel_df = pd.concat([rel_df.drop(['rel_score_dict'], axis=1), \n",
    "                        rel_df['rel_score_dict'].apply(pd.Series)], axis=1)\n",
    "\n",
    "    merged_df = pd.merge(rel_df, weight_df, on=['from', 'to'], how='left')\n",
    "    merged_df['weight'].fillna(0, inplace=True)\n",
    "    \n",
    "    return merged_df['weight'].corr(merged_df['rel_score']) # Your Answer Here\n",
    "    #return weight_df\n",
    "\n",
    "answer_four()"
   ]
  }
 ],
 "metadata": {
  "coursera": {
   "course_slug": "python-social-network-analysis",
   "graded_item_id": "YNa9b",
   "launcher_item_id": "hvNc1",
   "part_id": "VbyiB"
  },
  "kernelspec": {
   "display_name": "Python 3",
   "language": "python",
   "name": "python3"
  },
  "language_info": {
   "codemirror_mode": {
    "name": "ipython",
    "version": 3
   },
   "file_extension": ".py",
   "mimetype": "text/x-python",
   "name": "python",
   "nbconvert_exporter": "python",
   "pygments_lexer": "ipython3",
   "version": "3.8.2-final"
  }
 },
 "nbformat": 4,
 "nbformat_minor": 2
}